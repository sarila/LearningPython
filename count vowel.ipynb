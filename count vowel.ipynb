{
 "cells": [
  {
   "cell_type": "markdown",
   "id": "1c05c152",
   "metadata": {},
   "source": [
    "To count number of vowels in given paragraph"
   ]
  },
  {
   "cell_type": "code",
   "execution_count": 36,
   "id": "e6ff0873",
   "metadata": {},
   "outputs": [],
   "source": [
    "paragraph = \"\"\"There are many variations of passages of Lorem Ipsum available,but the majority have suffered alteration in some form, by injected humour, or\n",
    "randomised words which don't look even slightly believable. If you are going to  use a passage of Lorem Ipsum, you need to be sure there isn't anything embarrassing hidden in the middle of text. All the Lorem Ipsum generators on the Internet tend to\n",
    "repeat predefined chunks as necessary, making this the first true generator on the Internet. It uses a dictionary of over 200 Latin words, combined with a handful of model\n",
    "sentence structures, to generate Lorem Ipsum which looks reasonable. The generated Lorem Ipsum is therefore always free from repetition, injected humour, or non-characteristic words etc.\"\"\""
   ]
  },
  {
   "cell_type": "code",
   "execution_count": 37,
   "id": "60ba8a66",
   "metadata": {},
   "outputs": [],
   "source": [
    "vowels = ['a', 'e', 'i', 'o', 'u']"
   ]
  },
  {
   "cell_type": "code",
   "execution_count": 38,
   "id": "61cacde3",
   "metadata": {},
   "outputs": [
    {
     "data": {
      "text/plain": [
       "\"there are many variations of passages of lorem ipsum available,but the majority have suffered alteration in some form, by injected humour, or\\nrandomised words which don't look even slightly believable. if you are going to  use a passage of lorem ipsum, you need to be sure there isn't anything embarrassing hidden in the middle of text. all the lorem ipsum generators on the internet tend to\\nrepeat predefined chunks as necessary, making this the first true generator on the internet. it uses a dictionary of over 200 latin words, combined with a handful of model\\nsentence structures, to generate lorem ipsum which looks reasonable. the generated lorem ipsum is therefore always free from repetition, injected humour, or non-characteristic words etc.\""
      ]
     },
     "execution_count": 38,
     "metadata": {},
     "output_type": "execute_result"
    }
   ],
   "source": [
    "paragraph = paragraph.lower()\n",
    "paragraph"
   ]
  },
  {
   "cell_type": "code",
   "execution_count": 39,
   "id": "a91f3e69",
   "metadata": {},
   "outputs": [
    {
     "name": "stdout",
     "output_type": "stream",
     "text": [
      "{'a': 0, 'e': 0, 'i': 0, 'o': 0, 'u': 0}\n"
     ]
    }
   ],
   "source": [
    "count = {}\n",
    "for v in vowels :\n",
    "    count[v] = 0\n",
    "print(count)"
   ]
  },
  {
   "cell_type": "code",
   "execution_count": 40,
   "id": "ee02915e",
   "metadata": {},
   "outputs": [
    {
     "name": "stdout",
     "output_type": "stream",
     "text": [
      "{'a': 42, 'e': 87, 'i': 43, 'o': 49, 'u': 21}\n"
     ]
    }
   ],
   "source": [
    "for character in paragraph:\n",
    "    if 'a' == character:\n",
    "        count['a'] += 1\n",
    "    if 'e' == character:\n",
    "        count['e'] += 1\n",
    "    if 'i' == character:\n",
    "        count['i'] += 1\n",
    "    if 'o' == character:\n",
    "        count['o'] += 1\n",
    "    if 'u' == character:\n",
    "        count['u'] += 1\n",
    "\n",
    "print(count)\n",
    "        "
   ]
  },
  {
   "cell_type": "markdown",
   "id": "36e5b9b3",
   "metadata": {},
   "source": [
    "Higher Order Functions"
   ]
  },
  {
   "cell_type": "code",
   "execution_count": 41,
   "id": "924c9e51",
   "metadata": {},
   "outputs": [],
   "source": [
    "#function to return sum of two numbers\n",
    "def sum(a,b):\n",
    "    return a+b"
   ]
  },
  {
   "cell_type": "code",
   "execution_count": 42,
   "id": "280d9f99",
   "metadata": {},
   "outputs": [],
   "source": [
    "#Function to return square\n",
    "def sq(a):\n",
    "    return a*a"
   ]
  },
  {
   "cell_type": "code",
   "execution_count": 43,
   "id": "d063300f",
   "metadata": {},
   "outputs": [],
   "source": [
    "#function to return power\n",
    "def pow(a,b):\n",
    "    return a**b\n"
   ]
  },
  {
   "cell_type": "code",
   "execution_count": 44,
   "id": "06e1ee63",
   "metadata": {},
   "outputs": [],
   "source": [
    "#higher order function\n",
    "def log(func):\n",
    "    def inner(*args): #variadic arguments\n",
    "        print(f\"we are calling {func.__name__}\")\n",
    "        print(args)\n",
    "        return func(*args) #tuple unpacking\n",
    "    return inner"
   ]
  },
  {
   "cell_type": "code",
   "execution_count": 45,
   "id": "791738d0",
   "metadata": {},
   "outputs": [
    {
     "name": "stdout",
     "output_type": "stream",
     "text": [
      "we are calling sum\n",
      "(3, 5)\n"
     ]
    },
    {
     "data": {
      "text/plain": [
       "8"
      ]
     },
     "execution_count": 45,
     "metadata": {},
     "output_type": "execute_result"
    }
   ],
   "source": [
    "log(sum)(3,5)"
   ]
  },
  {
   "cell_type": "code",
   "execution_count": 46,
   "id": "6b1f4870",
   "metadata": {},
   "outputs": [
    {
     "name": "stdout",
     "output_type": "stream",
     "text": [
      "we are calling sq\n",
      "(4,)\n"
     ]
    },
    {
     "data": {
      "text/plain": [
       "16"
      ]
     },
     "execution_count": 46,
     "metadata": {},
     "output_type": "execute_result"
    }
   ],
   "source": [
    "log(sq)(4)"
   ]
  },
  {
   "cell_type": "code",
   "execution_count": 47,
   "id": "3a98060f",
   "metadata": {},
   "outputs": [
    {
     "ename": "NameError",
     "evalue": "name 'sub' is not defined",
     "output_type": "error",
     "traceback": [
      "\u001b[1;31m---------------------------------------------------------------------------\u001b[0m",
      "\u001b[1;31mNameError\u001b[0m                                 Traceback (most recent call last)",
      "\u001b[1;32m<ipython-input-47-a1d261928fd8>\u001b[0m in \u001b[0;36m<module>\u001b[1;34m\u001b[0m\n\u001b[1;32m----> 1\u001b[1;33m \u001b[0mlog\u001b[0m\u001b[1;33m(\u001b[0m\u001b[0msub\u001b[0m\u001b[1;33m)\u001b[0m\u001b[1;33m(\u001b[0m\u001b[1;36m3\u001b[0m\u001b[1;33m,\u001b[0m\u001b[1;36m2\u001b[0m\u001b[1;33m)\u001b[0m\u001b[1;33m\u001b[0m\u001b[1;33m\u001b[0m\u001b[0m\n\u001b[0m",
      "\u001b[1;31mNameError\u001b[0m: name 'sub' is not defined"
     ]
    }
   ],
   "source": [
    "log(sub)(3,2)"
   ]
  },
  {
   "cell_type": "markdown",
   "id": "9a94c9ba",
   "metadata": {},
   "source": [
    "Higher order function with named/ Keyword argument"
   ]
  },
  {
   "cell_type": "code",
   "execution_count": 50,
   "id": "a997a7f4",
   "metadata": {},
   "outputs": [],
   "source": [
    "def main_func(func):\n",
    "    def inner(*args, **kwargs): #variadic arguments, **kwargs represent keyword argument\n",
    "        #Key word arguments are passed in form of dictionary\n",
    "        #Positional arguments are passed in form of tuple\n",
    "        print(f\"we are calling {func.__name__}\")\n",
    "        print(args)\n",
    "        print(kwargs)\n",
    "        return func(*args, **kwargs)\n",
    "    return inner"
   ]
  },
  {
   "cell_type": "code",
   "execution_count": 51,
   "id": "c09179bf",
   "metadata": {},
   "outputs": [
    {
     "name": "stdout",
     "output_type": "stream",
     "text": [
      "we are calling pow\n",
      "(2,)\n",
      "{'b': 3}\n"
     ]
    },
    {
     "data": {
      "text/plain": [
       "8"
      ]
     },
     "execution_count": 51,
     "metadata": {},
     "output_type": "execute_result"
    }
   ],
   "source": [
    "main_func(pow)(2, b=3)"
   ]
  },
  {
   "cell_type": "code",
   "execution_count": 53,
   "id": "105b9849",
   "metadata": {},
   "outputs": [
    {
     "name": "stdout",
     "output_type": "stream",
     "text": [
      "we are calling pow\n",
      "()\n",
      "{'a': 3, 'b': 2}\n"
     ]
    },
    {
     "data": {
      "text/plain": [
       "9"
      ]
     },
     "execution_count": 53,
     "metadata": {},
     "output_type": "execute_result"
    }
   ],
   "source": [
    "main_func(pow)(a=3, b=2)"
   ]
  },
  {
   "cell_type": "code",
   "execution_count": 54,
   "id": "976bf3a4",
   "metadata": {},
   "outputs": [
    {
     "ename": "SyntaxError",
     "evalue": "positional argument follows keyword argument (<ipython-input-54-097a3f4443d0>, line 1)",
     "output_type": "error",
     "traceback": [
      "\u001b[1;36m  File \u001b[1;32m\"<ipython-input-54-097a3f4443d0>\"\u001b[1;36m, line \u001b[1;32m1\u001b[0m\n\u001b[1;33m    main_func(pow)(a=3,2)\u001b[0m\n\u001b[1;37m                       ^\u001b[0m\n\u001b[1;31mSyntaxError\u001b[0m\u001b[1;31m:\u001b[0m positional argument follows keyword argument\n"
     ]
    }
   ],
   "source": [
    "# cannot pass positional argument after keyword argument\n",
    "main_func(pow)(a=3,2)"
   ]
  },
  {
   "cell_type": "code",
   "execution_count": null,
   "id": "7273f58c",
   "metadata": {},
   "outputs": [],
   "source": []
  }
 ],
 "metadata": {
  "kernelspec": {
   "display_name": "Python 3",
   "language": "python",
   "name": "python3"
  },
  "language_info": {
   "codemirror_mode": {
    "name": "ipython",
    "version": 3
   },
   "file_extension": ".py",
   "mimetype": "text/x-python",
   "name": "python",
   "nbconvert_exporter": "python",
   "pygments_lexer": "ipython3",
   "version": "3.8.8"
  }
 },
 "nbformat": 4,
 "nbformat_minor": 5
}
