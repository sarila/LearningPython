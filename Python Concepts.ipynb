{
 "cells": [
  {
   "cell_type": "markdown",
   "id": "d1110ac3",
   "metadata": {},
   "source": [
    "Infinite argument to a function"
   ]
  },
  {
   "cell_type": "code",
   "execution_count": 7,
   "id": "e290a2b1",
   "metadata": {},
   "outputs": [],
   "source": [
    "def function(*people):\n",
    "    for person in people:\n",
    "        print(person)"
   ]
  },
  {
   "cell_type": "code",
   "execution_count": 8,
   "id": "206beeb2",
   "metadata": {},
   "outputs": [
    {
     "name": "stdout",
     "output_type": "stream",
     "text": [
      "sarila\n",
      "RamBahadur\n",
      "Thomas\n",
      "Elena\n",
      "SAirya\n"
     ]
    }
   ],
   "source": [
    "\n",
    "function(\"sarila\", \"RamBahadur\", \"Thomas\", \"Elena\", \"SAirya\")"
   ]
  },
  {
   "cell_type": "markdown",
   "id": "63c60394",
   "metadata": {},
   "source": [
    "File Operation"
   ]
  },
  {
   "cell_type": "code",
   "execution_count": 13,
   "id": "6d267d10",
   "metadata": {},
   "outputs": [
    {
     "data": {
      "text/plain": [
       "'This is the input to wirte on a file'"
      ]
     },
     "execution_count": 13,
     "metadata": {},
     "output_type": "execute_result"
    }
   ],
   "source": [
    "newfile = open(\"newfile.txt\", \"w+\")\n",
    "new_input = \"This is the input to wirte on a file\"\n",
    "newfile.write(new_input)"
   ]
  },
  {
   "cell_type": "code",
   "execution_count": 14,
   "id": "daf80ed2",
   "metadata": {},
   "outputs": [
    {
     "data": {
      "text/plain": [
       "'This is the input to wirte on a file'"
      ]
     },
     "execution_count": 14,
     "metadata": {},
     "output_type": "execute_result"
    }
   ],
   "source": [
    "newfile = open(\"newfile.txt\", \"r+\")\n",
    "newfile.read()"
   ]
  },
  {
   "cell_type": "code",
   "execution_count": null,
   "id": "fb41b52b",
   "metadata": {},
   "outputs": [],
   "source": []
  }
 ],
 "metadata": {
  "kernelspec": {
   "display_name": "Python 3",
   "language": "python",
   "name": "python3"
  },
  "language_info": {
   "codemirror_mode": {
    "name": "ipython",
    "version": 3
   },
   "file_extension": ".py",
   "mimetype": "text/x-python",
   "name": "python",
   "nbconvert_exporter": "python",
   "pygments_lexer": "ipython3",
   "version": "3.8.8"
  }
 },
 "nbformat": 4,
 "nbformat_minor": 5
}
