{
 "cells": [
  {
   "cell_type": "code",
   "execution_count": 5,
   "id": "75e3a152",
   "metadata": {},
   "outputs": [],
   "source": [
    "class Sport:\n",
    "    #initializer 1st argument is always an object\n",
    "    def __init__(self):\n",
    "        print(self)\n",
    "        \n",
    "    #instance method (also takes object as 1st argument)\n",
    "    def run(self, distance):\n",
    "        print(self)\n",
    "        print(distance)\n",
    "        \n",
    "    #class method (takes class ad 1st argument)\n",
    "    @classmethod\n",
    "    def swim(cls, lap):\n",
    "        print(cls)\n",
    "        print(lap)\n",
    "        \n",
    "    #static method (no need to pass object or class)\n",
    "    @staticmethod\n",
    "    def walk(distance, time):\n",
    "        print(distance)\n",
    "        print(time)"
   ]
  },
  {
   "cell_type": "code",
   "execution_count": 6,
   "id": "fca74608",
   "metadata": {},
   "outputs": [
    {
     "name": "stdout",
     "output_type": "stream",
     "text": [
      "<__main__.Sport object at 0x0000003058995C10>\n"
     ]
    }
   ],
   "source": [
    "s = Sport()"
   ]
  },
  {
   "cell_type": "code",
   "execution_count": 7,
   "id": "d37270bb",
   "metadata": {},
   "outputs": [
    {
     "name": "stdout",
     "output_type": "stream",
     "text": [
      "<__main__.Sport object at 0x0000003058995C10>\n",
      "5\n"
     ]
    }
   ],
   "source": [
    "s.run(5)"
   ]
  },
  {
   "cell_type": "code",
   "execution_count": 8,
   "id": "995fb7c1",
   "metadata": {},
   "outputs": [
    {
     "name": "stdout",
     "output_type": "stream",
     "text": [
      "<class '__main__.Sport'>\n",
      "3\n"
     ]
    }
   ],
   "source": [
    "s.swim(3)"
   ]
  },
  {
   "cell_type": "code",
   "execution_count": 9,
   "id": "50aa3bc1",
   "metadata": {},
   "outputs": [
    {
     "name": "stdout",
     "output_type": "stream",
     "text": [
      "1500\n",
      "240\n"
     ]
    }
   ],
   "source": [
    "s.walk(1500, 240)"
   ]
  },
  {
   "cell_type": "code",
   "execution_count": null,
   "id": "a09be288",
   "metadata": {},
   "outputs": [],
   "source": []
  }
 ],
 "metadata": {
  "kernelspec": {
   "display_name": "Python 3",
   "language": "python",
   "name": "python3"
  },
  "language_info": {
   "codemirror_mode": {
    "name": "ipython",
    "version": 3
   },
   "file_extension": ".py",
   "mimetype": "text/x-python",
   "name": "python",
   "nbconvert_exporter": "python",
   "pygments_lexer": "ipython3",
   "version": "3.8.8"
  }
 },
 "nbformat": 4,
 "nbformat_minor": 5
}
