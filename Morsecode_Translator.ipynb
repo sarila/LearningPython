{
  "nbformat": 4,
  "nbformat_minor": 0,
  "metadata": {
    "colab": {
      "name": "Morsecode Translator",
      "provenance": [],
      "collapsed_sections": []
    },
    "kernelspec": {
      "name": "python3",
      "display_name": "Python 3"
    }
  },
  "cells": [
    {
      "cell_type": "code",
      "metadata": {
        "id": "WyMexYlr9UgX",
        "colab": {
          "base_uri": "https://localhost:8080/"
        },
        "outputId": "e8ec4b3e-6964-4d03-b49e-de75e05e64a0"
      },
      "source": [
        "textdist = {\n",
        "\t\"A\" : \".-\", \"B\" : \"-...\", \"C\" : \"-.-.\", \"D\":\"-..\",\n",
        "\t\"E\":\".\", \"F\":\"..-.\", \"G\":\"--.\", \"H\":\"....\", \"I\":\"..\",\n",
        "\t\"J\":\".---\", \"K\":\"-.-\", \"L\":\".-..\", \"M\":\"--\", \"N\":\"-.\",\n",
        "\t\"O\":\"---\", \"P\":\".--.\", \"Q\":\"--.-\", \"R\":\".-.\", \"S\":\"...\",\n",
        "\t\"T\":\"-\", \"U\":\"..-\", \"V\":\"...-\", \"W\":\".--\", \"X\":\"-..-\",\n",
        "\t\"Y\":\"-.--\", \"Z\":\"--..\", \"1\":\".----\", \"2\":\"..---\", \"3\":\"...--\", \"4\":\"....-\",\n",
        "\t\"5\":\".....\", \"6\":\"-....\", \"7\":\"--...\", \"8\":\"---..\", \"9\":\"----.\", \"0\": \"-----\",\n",
        "\t\".\":\".-.-.-\", \",\":\"--..--\", \"?\":\"..--..\", \"/\":\"-..-.\", \"@\":\".--.-.\"\n",
        "}\n",
        "plain = input(\"Enter the text:\")\n",
        "print(\"given text input is \"+plain)\n",
        "text = plain.upper()\n",
        "print(text)"
      ],
      "execution_count": null,
      "outputs": [
        {
          "output_type": "stream",
          "name": "stdout",
          "text": [
            "Enter the text:Hello World\n",
            "given text input is Hello World\n",
            "HELLO WORLD\n"
          ]
        }
      ]
    },
    {
      "cell_type": "code",
      "metadata": {
        "id": "7kezYAOc9fgx"
      },
      "source": [
        "def encrypt(message):\n",
        "    cipher= ''\n",
        "    for letter in message:\n",
        "        if letter!=' ':\n",
        "            cipher+= textdist[letter]+' '\n",
        "        else:\n",
        "            cipher+='  '\n",
        "    return(cipher)\n",
        "            "
      ],
      "execution_count": null,
      "outputs": []
    },
    {
      "cell_type": "code",
      "metadata": {
        "id": "JHU035dE9pww",
        "colab": {
          "base_uri": "https://localhost:8080/"
        },
        "outputId": "56f41d5c-1e0e-4702-83f8-5f9af053c451"
      },
      "source": [
        "morse= encrypt(text)\n",
        "print(morse)"
      ],
      "execution_count": null,
      "outputs": [
        {
          "output_type": "stream",
          "name": "stdout",
          "text": [
            ".... . .-.. .-.. ---   .-- --- .-. .-.. -.. \n"
          ]
        }
      ]
    },
    {
      "cell_type": "code",
      "metadata": {
        "id": "DovyDnzY9tXO"
      },
      "source": [
        "def decrypt(message):\n",
        "    message+=' '\n",
        "    print(message)\n",
        "    plain= ''\n",
        "    decipher = '' \n",
        "    citext = '' \n",
        "    for letter in message: \n",
        "        # checks for space \n",
        "        if (letter!=' '): \n",
        "            # counter to keep track of space \n",
        "            i = 0\n",
        "            # storing morse code of a single character \n",
        "            citext += letter\n",
        "        # in case of space \n",
        "        else: \n",
        "            # if i = 1 that indicates a new character \n",
        "            i+=1\n",
        "  \n",
        "            # if i = 2 that indicates a new word \n",
        "            if i == 2 : \n",
        "  \n",
        "                 # adding space to separate words \n",
        "                decipher +=' '\n",
        "            else: \n",
        "                # accessing the keys using their values \n",
        "                decipher += list(textdist.keys())[list(textdist.values()).index(citext)]\n",
        "                citext = ''\n",
        "                \n",
        "  \n",
        "    return decipher "
      ],
      "execution_count": null,
      "outputs": []
    },
    {
      "cell_type": "code",
      "metadata": {
        "id": "4lxcjGwY9v7w",
        "colab": {
          "base_uri": "https://localhost:8080/"
        },
        "outputId": "8a6030ce-ab61-426b-ebef-3756692d4c0d"
      },
      "source": [
        "code='.- .. .-..  .-  -. ... . .-. ---' #for manual entry of morse code\n",
        "mm = decrypt(code)\n",
        "print(mm)"
      ],
      "execution_count": null,
      "outputs": [
        {
          "output_type": "stream",
          "name": "stdout",
          "text": [
            ".- .. .-..  .-  -. ... . .-. --- \n",
            "AIL A NSERO\n"
          ]
        }
      ]
    },
    {
      "cell_type": "code",
      "metadata": {
        "id": "0uaijjGy9zAa"
      },
      "source": [
        ""
      ],
      "execution_count": null,
      "outputs": []
    }
  ]
}