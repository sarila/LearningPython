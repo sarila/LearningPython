{
 "cells": [
  {
   "cell_type": "code",
   "execution_count": 1,
   "id": "c3982ebd",
   "metadata": {},
   "outputs": [],
   "source": [
    "class Sport:\n",
    "    #initializer 1st argument is always an object\n",
    "    def __init__(self):\n",
    "        print(self)\n",
    "        \n",
    "    #instance method (also takes object as 1st argument)\n",
    "    def run(self, distance):\n",
    "        print(self)\n",
    "        print(distance)\n",
    "        \n",
    "    #class method (takes class ad 1st argument)\n",
    "    @classmethod\n",
    "    def swim(cls, lap):\n",
    "        print(lap)\n",
    "        \n",
    "    #static method (no need to pass object or class)\n",
    "    @staticmethod\n",
    "    def walk(distance, time):\n",
    "        print(distance)\n",
    "        print(time)"
   ]
  },
  {
   "cell_type": "code",
   "execution_count": 2,
   "id": "b10bfc15",
   "metadata": {},
   "outputs": [
    {
     "name": "stdout",
     "output_type": "stream",
     "text": [
      "<__main__.Sport object at 0x0000003058995310>\n"
     ]
    }
   ],
   "source": [
    "s = Sport()"
   ]
  },
  {
   "cell_type": "code",
   "execution_count": 4,
   "id": "a09e36f9",
   "metadata": {},
   "outputs": [
    {
     "name": "stdout",
     "output_type": "stream",
     "text": [
      "5\n"
     ]
    }
   ],
   "source": [
    "s.run(5)"
   ]
  },
  {
   "cell_type": "code",
   "execution_count": null,
   "id": "17d2a052",
   "metadata": {},
   "outputs": [],
   "source": [
    "s."
   ]
  }
 ],
 "metadata": {
  "kernelspec": {
   "display_name": "Python 3",
   "language": "python",
   "name": "python3"
  },
  "language_info": {
   "codemirror_mode": {
    "name": "ipython",
    "version": 3
   },
   "file_extension": ".py",
   "mimetype": "text/x-python",
   "name": "python",
   "nbconvert_exporter": "python",
   "pygments_lexer": "ipython3",
   "version": "3.8.8"
  }
 },
 "nbformat": 4,
 "nbformat_minor": 5
}
