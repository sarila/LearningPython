{
 "cells": [
  {
   "cell_type": "markdown",
   "id": "bf221088",
   "metadata": {},
   "source": [
    "Infinite argument to a function"
   ]
  },
  {
   "cell_type": "code",
   "execution_count": 7,
   "id": "a3fadd74",
   "metadata": {},
   "outputs": [],
   "source": [
    "def function(*people):\n",
    "    for person in people:\n",
    "        print(person)"
   ]
  },
  {
   "cell_type": "code",
   "execution_count": 8,
   "id": "3644276e",
   "metadata": {},
   "outputs": [
    {
     "name": "stdout",
     "output_type": "stream",
     "text": [
      "sarila\n",
      "RamBahadur\n",
      "Thomas\n",
      "Elena\n",
      "SAirya\n"
     ]
    }
   ],
   "source": [
    "\n",
    "function(\"sarila\", \"RamBahadur\", \"Thomas\", \"Elena\", \"SAirya\")"
   ]
  },
  {
   "cell_type": "code",
   "execution_count": null,
   "id": "5e615357",
   "metadata": {},
   "outputs": [],
   "source": []
  }
 ],
 "metadata": {
  "kernelspec": {
   "display_name": "Python 3",
   "language": "python",
   "name": "python3"
  },
  "language_info": {
   "codemirror_mode": {
    "name": "ipython",
    "version": 3
   },
   "file_extension": ".py",
   "mimetype": "text/x-python",
   "name": "python",
   "nbconvert_exporter": "python",
   "pygments_lexer": "ipython3",
   "version": "3.8.8"
  }
 },
 "nbformat": 4,
 "nbformat_minor": 5
}
