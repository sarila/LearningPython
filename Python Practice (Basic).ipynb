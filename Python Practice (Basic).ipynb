{
 "cells": [
  {
   "cell_type": "code",
   "execution_count": 1,
   "id": "ef22a469",
   "metadata": {},
   "outputs": [
    {
     "name": "stdout",
     "output_type": "stream",
     "text": [
      "Hello World!\n"
     ]
    }
   ],
   "source": [
    "print(\"Hello World!\")"
   ]
  },
  {
   "cell_type": "code",
   "execution_count": 2,
   "id": "79be9076",
   "metadata": {},
   "outputs": [
    {
     "name": "stdout",
     "output_type": "stream",
     "text": [
      "Hi! I am Sarila Ngakhusi\n"
     ]
    }
   ],
   "source": [
    "print(\"Hi! I am Sarila Ngakhusi\")"
   ]
  },
  {
   "cell_type": "code",
   "execution_count": 3,
   "id": "986f857a",
   "metadata": {},
   "outputs": [
    {
     "data": {
      "text/plain": [
       "5.0"
      ]
     },
     "execution_count": 3,
     "metadata": {},
     "output_type": "execute_result"
    }
   ],
   "source": [
    "a = 10\n",
    "b = 2\n",
    "a/b"
   ]
  },
  {
   "cell_type": "code",
   "execution_count": 4,
   "id": "b9501774",
   "metadata": {},
   "outputs": [
    {
     "name": "stdout",
     "output_type": "stream",
     "text": [
      "5.0\n"
     ]
    }
   ],
   "source": [
    "print(a/b)"
   ]
  },
  {
   "cell_type": "code",
   "execution_count": 5,
   "id": "1c0aa543",
   "metadata": {},
   "outputs": [
    {
     "name": "stdout",
     "output_type": "stream",
     "text": [
      "My name is: Sarila Ngakhusi\n"
     ]
    }
   ],
   "source": [
    "str1 = \"Sarila\"\n",
    "str2 = \"Ngakhusi\"\n",
    "fullname = str1 +\" \"+ str2\n",
    "print(\"My name is: \"+fullname)"
   ]
  },
  {
   "cell_type": "markdown",
   "id": "334bd9f6",
   "metadata": {},
   "source": [
    "Arithmetic Operations"
   ]
  },
  {
   "cell_type": "code",
   "execution_count": 6,
   "id": "2b526e3d",
   "metadata": {},
   "outputs": [],
   "source": [
    "a = 10\n",
    "b = 4"
   ]
  },
  {
   "cell_type": "code",
   "execution_count": 7,
   "id": "6038e004",
   "metadata": {},
   "outputs": [
    {
     "data": {
      "text/plain": [
       "2.5"
      ]
     },
     "execution_count": 7,
     "metadata": {},
     "output_type": "execute_result"
    }
   ],
   "source": [
    "a/b"
   ]
  },
  {
   "cell_type": "code",
   "execution_count": 8,
   "id": "141f3e99",
   "metadata": {},
   "outputs": [
    {
     "data": {
      "text/plain": [
       "2"
      ]
     },
     "execution_count": 8,
     "metadata": {},
     "output_type": "execute_result"
    }
   ],
   "source": [
    "a//b"
   ]
  },
  {
   "cell_type": "code",
   "execution_count": 9,
   "id": "3624892a",
   "metadata": {},
   "outputs": [
    {
     "data": {
      "text/plain": [
       "40"
      ]
     },
     "execution_count": 9,
     "metadata": {},
     "output_type": "execute_result"
    }
   ],
   "source": [
    "a*b"
   ]
  },
  {
   "cell_type": "code",
   "execution_count": 10,
   "id": "e6c41671",
   "metadata": {},
   "outputs": [
    {
     "data": {
      "text/plain": [
       "10000"
      ]
     },
     "execution_count": 10,
     "metadata": {},
     "output_type": "execute_result"
    }
   ],
   "source": [
    "a**b"
   ]
  },
  {
   "cell_type": "code",
   "execution_count": 11,
   "id": "e7c37d75",
   "metadata": {},
   "outputs": [
    {
     "data": {
      "text/plain": [
       "14"
      ]
     },
     "execution_count": 11,
     "metadata": {},
     "output_type": "execute_result"
    }
   ],
   "source": [
    "a+b"
   ]
  },
  {
   "cell_type": "code",
   "execution_count": 12,
   "id": "cc667d5a",
   "metadata": {},
   "outputs": [
    {
     "data": {
      "text/plain": [
       "6"
      ]
     },
     "execution_count": 12,
     "metadata": {},
     "output_type": "execute_result"
    }
   ],
   "source": [
    "a-b"
   ]
  },
  {
   "cell_type": "markdown",
   "id": "8b621bca",
   "metadata": {},
   "source": [
    "List Operations"
   ]
  },
  {
   "cell_type": "code",
   "execution_count": 13,
   "id": "a0683ddc",
   "metadata": {},
   "outputs": [],
   "source": [
    "employees = [\"John\", \"Green\", \"Taylor\", \"Red\", \"Black\", \"Blood\"]"
   ]
  },
  {
   "cell_type": "code",
   "execution_count": 14,
   "id": "02d906f1",
   "metadata": {},
   "outputs": [
    {
     "data": {
      "text/plain": [
       "1"
      ]
     },
     "execution_count": 14,
     "metadata": {},
     "output_type": "execute_result"
    }
   ],
   "source": [
    "employees.count(\"Green\")"
   ]
  },
  {
   "cell_type": "code",
   "execution_count": 15,
   "id": "192abf2c",
   "metadata": {},
   "outputs": [
    {
     "name": "stdout",
     "output_type": "stream",
     "text": [
      "['John', 'Green', 'Taylor', 'Red', 'Black', 'Blood', 'Green']\n"
     ]
    }
   ],
   "source": [
    "employees.append(\"Green\")\n",
    "print(employees)"
   ]
  },
  {
   "cell_type": "code",
   "execution_count": 16,
   "id": "575e04fb",
   "metadata": {},
   "outputs": [
    {
     "name": "stdout",
     "output_type": "stream",
     "text": [
      "['John', 'Green', 'Taylor', 'Red', 'Black', 'Blood', 'Green', ['Swift', 'Orange']]\n"
     ]
    }
   ],
   "source": [
    "employees.append([\"Swift\", \"Orange\"])\n",
    "print(employees)"
   ]
  },
  {
   "cell_type": "code",
   "execution_count": 17,
   "id": "1e896e1a",
   "metadata": {},
   "outputs": [
    {
     "name": "stdout",
     "output_type": "stream",
     "text": [
      "['John', 'Green', 'Taylor', 'Red', 'Black', 'Blood', 'Green', ['Swift', 'Orange'], 'Swift', 'Orange']\n"
     ]
    }
   ],
   "source": [
    "employees.extend([\"Swift\", \"Orange\"])\n",
    "print(employees)"
   ]
  },
  {
   "cell_type": "code",
   "execution_count": 18,
   "id": "959574f9",
   "metadata": {},
   "outputs": [],
   "source": [
    "name = [\"Alex\", \"John\", \"Thomas\"]"
   ]
  },
  {
   "cell_type": "code",
   "execution_count": 19,
   "id": "8f0afc89",
   "metadata": {},
   "outputs": [],
   "source": [
    "age = [12, 50, 36]"
   ]
  },
  {
   "cell_type": "code",
   "execution_count": 20,
   "id": "bab4395c",
   "metadata": {},
   "outputs": [
    {
     "name": "stdout",
     "output_type": "stream",
     "text": [
      "['Alex', 'John', 'Thomas', 12, 50, 36]\n"
     ]
    }
   ],
   "source": [
    "print(name+age)"
   ]
  },
  {
   "cell_type": "markdown",
   "id": "5322aa49",
   "metadata": {},
   "source": [
    "Slicing of List"
   ]
  },
  {
   "cell_type": "code",
   "execution_count": 21,
   "id": "b138625b",
   "metadata": {},
   "outputs": [
    {
     "name": "stdout",
     "output_type": "stream",
     "text": [
      "['Taylor']\n"
     ]
    }
   ],
   "source": [
    "print(employees[2:3])"
   ]
  },
  {
   "cell_type": "code",
   "execution_count": 22,
   "id": "044e59a7",
   "metadata": {},
   "outputs": [
    {
     "name": "stdout",
     "output_type": "stream",
     "text": [
      "['John', 'Green', 'Taylor', 'Red', 'Black', 'Blood', 'Green', ['Swift', 'Orange'], 'Swift', 'Orange']\n"
     ]
    }
   ],
   "source": [
    "print(employees)"
   ]
  },
  {
   "cell_type": "code",
   "execution_count": 25,
   "id": "548559cb",
   "metadata": {},
   "outputs": [
    {
     "data": {
      "text/plain": [
       "['Swift', 'Orange']"
      ]
     },
     "execution_count": 25,
     "metadata": {},
     "output_type": "execute_result"
    }
   ],
   "source": [
    "employees.pop(7)"
   ]
  },
  {
   "cell_type": "code",
   "execution_count": 26,
   "id": "47710a5b",
   "metadata": {},
   "outputs": [
    {
     "data": {
      "text/plain": [
       "['John',\n",
       " 'Green',\n",
       " 'Taylor',\n",
       " 'Red',\n",
       " 'Black',\n",
       " 'Blood',\n",
       " 'Green',\n",
       " 'Swift',\n",
       " 'Orange']"
      ]
     },
     "execution_count": 26,
     "metadata": {},
     "output_type": "execute_result"
    }
   ],
   "source": [
    "employees"
   ]
  },
  {
   "cell_type": "markdown",
   "id": "6d7389c9",
   "metadata": {},
   "source": [
    "Tuple"
   ]
  },
  {
   "cell_type": "code",
   "execution_count": 27,
   "id": "8cf166e8",
   "metadata": {},
   "outputs": [],
   "source": [
    "a_tuple = (1,2,3,4,5,)"
   ]
  },
  {
   "cell_type": "code",
   "execution_count": 28,
   "id": "abe2c075",
   "metadata": {},
   "outputs": [
    {
     "data": {
      "text/plain": [
       "(1, 2, 3, 4, 5)"
      ]
     },
     "execution_count": 28,
     "metadata": {},
     "output_type": "execute_result"
    }
   ],
   "source": [
    "a_tuple"
   ]
  },
  {
   "cell_type": "code",
   "execution_count": 29,
   "id": "98745a9e",
   "metadata": {},
   "outputs": [],
   "source": [
    "a_dictionary = {\n",
    "    'name' : 'Sarila',\n",
    "    'class' : '10',\n",
    "    'roll no' : 40\n",
    "}"
   ]
  },
  {
   "cell_type": "code",
   "execution_count": 30,
   "id": "7517000b",
   "metadata": {},
   "outputs": [
    {
     "data": {
      "text/plain": [
       "{'name': 'Sarila', 'class': '10', 'roll no': 40}"
      ]
     },
     "execution_count": 30,
     "metadata": {},
     "output_type": "execute_result"
    }
   ],
   "source": [
    "a_dictionary"
   ]
  },
  {
   "cell_type": "code",
   "execution_count": 34,
   "id": "6fa824ac",
   "metadata": {},
   "outputs": [],
   "source": [
    "a_dictionary['name'] = 'Joshep'"
   ]
  },
  {
   "cell_type": "code",
   "execution_count": 35,
   "id": "ad630215",
   "metadata": {},
   "outputs": [
    {
     "data": {
      "text/plain": [
       "{'name': 'Joshep', 'class': '10', 'roll no': 40}"
      ]
     },
     "execution_count": 35,
     "metadata": {},
     "output_type": "execute_result"
    }
   ],
   "source": [
    "a_dictionary"
   ]
  },
  {
   "cell_type": "code",
   "execution_count": 37,
   "id": "7e58cc4b",
   "metadata": {},
   "outputs": [],
   "source": [
    "Some_dict = {'numbers':[67, 45, 5, 3, 60], 'names': ['john', 'thomas', 'supriya', 'ray']} "
   ]
  },
  {
   "cell_type": "code",
   "execution_count": 39,
   "id": "b5420f0e",
   "metadata": {},
   "outputs": [
    {
     "data": {
      "text/plain": [
       "2"
      ]
     },
     "execution_count": 39,
     "metadata": {},
     "output_type": "execute_result"
    }
   ],
   "source": [
    "len(Some_dict)"
   ]
  },
  {
   "cell_type": "code",
   "execution_count": 41,
   "id": "f9fe6a6f",
   "metadata": {},
   "outputs": [
    {
     "data": {
      "text/plain": [
       "67"
      ]
     },
     "execution_count": 41,
     "metadata": {},
     "output_type": "execute_result"
    }
   ],
   "source": [
    "Some_dict['numbers'][0]"
   ]
  },
  {
   "cell_type": "code",
   "execution_count": 42,
   "id": "f123d2dd",
   "metadata": {},
   "outputs": [
    {
     "data": {
      "text/plain": [
       "'ray'"
      ]
     },
     "execution_count": 42,
     "metadata": {},
     "output_type": "execute_result"
    }
   ],
   "source": [
    "Some_dict['names'][3]"
   ]
  },
  {
   "cell_type": "markdown",
   "id": "99194c66",
   "metadata": {},
   "source": [
    "List Comprehension"
   ]
  },
  {
   "cell_type": "markdown",
   "id": "45598d30",
   "metadata": {},
   "source": [
    "List comprehension offers a short syntax to create a list based on existing values"
   ]
  },
  {
   "cell_type": "code",
   "execution_count": 4,
   "id": "0ecbb095",
   "metadata": {
    "scrolled": true
   },
   "outputs": [
    {
     "name": "stdout",
     "output_type": "stream",
     "text": [
      "[0, 2, 4, 6, 8, 10, 12, 14, 16, 18, 20, 22, 24, 26, 28, 30, 32, 34, 36, 38, 40, 42, 44, 46, 48]\n"
     ]
    }
   ],
   "source": [
    "even_list = []\n",
    "for item in range(0, 50):\n",
    "    if item%2==0:\n",
    "        even_list.append(item)\n",
    "\n",
    "print(even_list)"
   ]
  },
  {
   "cell_type": "code",
   "execution_count": 5,
   "id": "39fad747",
   "metadata": {},
   "outputs": [
    {
     "name": "stdout",
     "output_type": "stream",
     "text": [
      "[0, 2, 4, 6, 8, 10, 12, 14, 16, 18, 20, 22, 24, 26, 28, 30, 32, 34, 36, 38, 40, 42, 44, 46, 48]\n"
     ]
    }
   ],
   "source": [
    "#from List comprehension\n",
    "even = [item for item in range(0, 50) if item%2==0]\n",
    "print(even)"
   ]
  },
  {
   "cell_type": "code",
   "execution_count": 6,
   "id": "9894064c",
   "metadata": {},
   "outputs": [
    {
     "name": "stdout",
     "output_type": "stream",
     "text": [
      "{0, 2, 4, 6, 8, 10, 12, 14, 16, 18, 20, 22, 24, 26, 28, 30, 32, 34, 36, 38, 40, 42, 44, 46, 48}\n"
     ]
    }
   ],
   "source": [
    "#Exists set comprehension \n",
    "even_set = {item for item in range(0, 50) if item%2==0}\n",
    "print(even_set)"
   ]
  },
  {
   "cell_type": "code",
   "execution_count": 7,
   "id": "b088ce42",
   "metadata": {},
   "outputs": [
    {
     "name": "stdout",
     "output_type": "stream",
     "text": [
      "{0: 0, 2: 4, 4: 16, 6: 36, 8: 64}\n"
     ]
    }
   ],
   "source": [
    "#exists dictionary comprehension\n",
    "square = {item: item*item for item in range(0, 10) if item%2==0}\n",
    "print(square)"
   ]
  },
  {
   "cell_type": "markdown",
   "id": "64575de8",
   "metadata": {},
   "source": [
    "Tuple being immutable, comprehension cannot be done on Tuple"
   ]
  },
  {
   "cell_type": "code",
   "execution_count": null,
   "id": "4afba52a",
   "metadata": {},
   "outputs": [],
   "source": []
  }
 ],
 "metadata": {
  "kernelspec": {
   "display_name": "Python 3",
   "language": "python",
   "name": "python3"
  },
  "language_info": {
   "codemirror_mode": {
    "name": "ipython",
    "version": 3
   },
   "file_extension": ".py",
   "mimetype": "text/x-python",
   "name": "python",
   "nbconvert_exporter": "python",
   "pygments_lexer": "ipython3",
   "version": "3.8.8"
  }
 },
 "nbformat": 4,
 "nbformat_minor": 5
}
