{
 "cells": [
  {
   "cell_type": "code",
   "execution_count": 1,
   "id": "ba4c66c2",
   "metadata": {},
   "outputs": [],
   "source": [
    "import random"
   ]
  },
  {
   "cell_type": "code",
   "execution_count": 2,
   "id": "54d5ccf9",
   "metadata": {},
   "outputs": [],
   "source": [
    "movies_list = ['Saving Pirate Ryan', 'The Fault in Our Stars', 'Titanic', 'Hustle', 'Rush',\\\n",
    "               'Fast and Furious', 'The Beautiful Life', 'To Kill a Mocking Bird', 'Rocky', 'The Shawshank Redemption'\\\n",
    "              'Holidate', 'Happy Death Day']"
   ]
  },
  {
   "cell_type": "code",
   "execution_count": 3,
   "id": "6e65a74d",
   "metadata": {},
   "outputs": [
    {
     "name": "stdout",
     "output_type": "stream",
     "text": [
      "7\n"
     ]
    }
   ],
   "source": [
    "random_movie = random.choice(movies_list).lower()\n",
    "print(len(random_movie))"
   ]
  },
  {
   "cell_type": "code",
   "execution_count": 4,
   "id": "96833a1b",
   "metadata": {},
   "outputs": [
    {
     "name": "stdout",
     "output_type": "stream",
     "text": [
      "_ _ _ _ _ _ _\n"
     ]
    }
   ],
   "source": [
    "guessed_letters = []\n",
    "for letters in random_movie:\n",
    "    guessed_letters.append(\"_\")\n",
    "print(*guessed_letters)"
   ]
  },
  {
   "cell_type": "code",
   "execution_count": 5,
   "id": "4520712d",
   "metadata": {},
   "outputs": [
    {
     "name": "stdout",
     "output_type": "stream",
     "text": [
      "Enter your guess letter\n",
      "o\n",
      "Bad Guess! Remaining life:  2\n",
      "Enter your guess letter\n",
      "h\n",
      "Bad Guess! Remaining life:  1\n",
      "Enter your guess letter\n",
      "t\n",
      "t _ t _ _ _ _\n",
      "Enter your guess letter\n",
      "a\n",
      "t _ t a _ _ _\n",
      "Enter your guess letter\n",
      "n\n",
      "t _ t a n _ _\n",
      "Enter your guess letter\n",
      "c\n",
      "t _ t a n _ c\n",
      "Enter your guess letter\n",
      "t\n",
      "You already guessed t Try Something Else\n",
      "Enter your guess letter\n",
      "i\n",
      "t i t a n i c\n",
      "Congratulations!! You guessed the movie!\n",
      "t i t a n i c\n"
     ]
    }
   ],
   "source": [
    "life = 3\n",
    "while(life != 0):\n",
    "    if(\"_\" in guessed_letters):\n",
    "        print(\"Enter your guess letter\")\n",
    "        guess = input()\n",
    "        if(guess in random_movie):\n",
    "            count = random_movie.count(guess)\n",
    "#             print(f\"there were \", count, guess)\n",
    "            for i in range (0, count):\n",
    "#                 print(i)\n",
    "                position = random_movie.find(guess)\n",
    "                guessed_letters[position] = guess\n",
    "                random_movie = random_movie.replace(guess, '_', 1)\n",
    "            print(*guessed_letters)\n",
    "#             print(random_movie)\n",
    "        elif(guess in guessed_letters):\n",
    "            print(f\"You already guessed\", guess , \"Try Something Else\")\n",
    "        else:\n",
    "            life = life-1\n",
    "            print(f\"Bad Guess! Remaining life: \" , life)\n",
    "    else:\n",
    "        print(\"Congratulations!! You guessed the movie!\")\n",
    "        print(*guessed_letters)\n",
    "        break\n",
    "\n",
    "if(life == 0):\n",
    "    print(\"Too bad!! you ran out of life, Try Again\")"
   ]
  },
  {
   "cell_type": "code",
   "execution_count": null,
   "id": "7eca7b24",
   "metadata": {},
   "outputs": [],
   "source": []
  },
  {
   "cell_type": "code",
   "execution_count": null,
   "id": "522dc489",
   "metadata": {},
   "outputs": [],
   "source": []
  }
 ],
 "metadata": {
  "kernelspec": {
   "display_name": "Python 3",
   "language": "python",
   "name": "python3"
  },
  "language_info": {
   "codemirror_mode": {
    "name": "ipython",
    "version": 3
   },
   "file_extension": ".py",
   "mimetype": "text/x-python",
   "name": "python",
   "nbconvert_exporter": "python",
   "pygments_lexer": "ipython3",
   "version": "3.8.8"
  }
 },
 "nbformat": 4,
 "nbformat_minor": 5
}
