{
 "cells": [
  {
   "cell_type": "markdown",
   "id": "775cfb8a",
   "metadata": {},
   "source": [
    "Program to find number of tokens in given input"
   ]
  },
  {
   "cell_type": "code",
   "execution_count": 7,
   "id": "64ac478d",
   "metadata": {},
   "outputs": [],
   "source": [
    "import re"
   ]
  },
  {
   "cell_type": "code",
   "execution_count": 34,
   "id": "cf24758e",
   "metadata": {},
   "outputs": [
    {
     "name": "stdout",
     "output_type": "stream",
     "text": [
      "Enter the Expression/ Input string\n",
      "int a,b,c;float d;\n",
      "['int', 'a', 'b', 'c', 'float', 'd', '']\n",
      "Number of tokens in given string is:  6\n"
     ]
    }
   ],
   "source": [
    "print(\"Enter the Expression/ Input string\")\n",
    "input_string = input()\n",
    "tokens = re.split(';|,| ',input_string)\n",
    "empty_count = tokens.count(\"\")\n",
    "token_count = len(tokens) - empty_count\n",
    "print(tokens)\n",
    "print(\"Number of tokens in given string is: \",token_count)\n"
   ]
  },
  {
   "cell_type": "markdown",
   "id": "a9194608",
   "metadata": {},
   "source": [
    "Program to Tokenize given arithmetic expression to split the operand and operator"
   ]
  },
  {
   "cell_type": "code",
   "execution_count": 46,
   "id": "a40f0385",
   "metadata": {},
   "outputs": [
    {
     "name": "stdout",
     "output_type": "stream",
     "text": [
      "Enter the Arithmetic Operation\n",
      "67 + 9 + 10 - 20\n",
      "['67', '+', '9', '+', '10', '-', '20']\n",
      "List of Operands are:\n",
      "['67', '9', '10', '20']\n",
      "List of Operators are:\n",
      "['+', '+', '-']\n"
     ]
    }
   ],
   "source": [
    "operands = []\n",
    "operators = []\n",
    "print(\"Enter the Arithmetic Operation\")\n",
    "input_string = input()\n",
    "tokens = input_string.split(\" \")\n",
    "print(tokens)\n",
    "for item in tokens:\n",
    "    if item.isdigit():\n",
    "        operands.append(item)\n",
    "    else:\n",
    "        operators.append(item)\n",
    "print(\"List of Operands are:\")\n",
    "print(operands)\n",
    "print(\"List of Operators are:\")\n",
    "print(operators)\n",
    "    "
   ]
  },
  {
   "cell_type": "markdown",
   "id": "07f4a808",
   "metadata": {},
   "source": [
    "Program to tokenize If Statement\n",
    "For ex: Input -> if(a>b && a>c)\n",
    "        Output -> a>b, a>c"
   ]
  },
  {
   "cell_type": "code",
   "execution_count": null,
   "id": "7a1eb7bb",
   "metadata": {},
   "outputs": [],
   "source": []
  },
  {
   "cell_type": "code",
   "execution_count": null,
   "id": "092a8189",
   "metadata": {},
   "outputs": [],
   "source": []
  },
  {
   "cell_type": "markdown",
   "id": "425b7fc6",
   "metadata": {},
   "source": [
    "Program to tokenize for loop For ex: Input->for(i=0;i<5;i++) Output->i=0,i<5,i++"
   ]
  },
  {
   "cell_type": "code",
   "execution_count": null,
   "id": "e09e923f",
   "metadata": {},
   "outputs": [],
   "source": []
  }
 ],
 "metadata": {
  "kernelspec": {
   "display_name": "Python 3",
   "language": "python",
   "name": "python3"
  },
  "language_info": {
   "codemirror_mode": {
    "name": "ipython",
    "version": 3
   },
   "file_extension": ".py",
   "mimetype": "text/x-python",
   "name": "python",
   "nbconvert_exporter": "python",
   "pygments_lexer": "ipython3",
   "version": "3.8.8"
  }
 },
 "nbformat": 4,
 "nbformat_minor": 5
}
