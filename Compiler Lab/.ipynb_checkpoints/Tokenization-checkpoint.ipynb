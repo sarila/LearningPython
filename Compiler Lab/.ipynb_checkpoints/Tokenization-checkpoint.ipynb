{
 "cells": [
  {
   "cell_type": "markdown",
   "id": "c79b4bac",
   "metadata": {},
   "source": [
    "Program to find number of tokens in given input"
   ]
  },
  {
   "cell_type": "code",
   "execution_count": 7,
   "id": "00169266",
   "metadata": {},
   "outputs": [],
   "source": [
    "import re"
   ]
  },
  {
   "cell_type": "code",
   "execution_count": 23,
   "id": "763f82ec",
   "metadata": {},
   "outputs": [
    {
     "name": "stdout",
     "output_type": "stream",
     "text": [
      "Enter the Expression/ Input string\n",
      "int a,b,c;float d;\n",
      "int a,b,c;float d;\n"
     ]
    }
   ],
   "source": [
    "number_of_tokens = 0\n",
    "print(\"Enter the Expression/ Input string\")\n",
    "input_string = input()\n",
    "tokens = re.split(';|,| ',input_string)\n",
    "print(tokens.count(\" \"))\n",
    "print(tokens)\n"
   ]
  },
  {
   "cell_type": "markdown",
   "id": "d7343fb0",
   "metadata": {},
   "source": [
    "Program to Tokenize given arithmetic expression to split the operand and operator"
   ]
  },
  {
   "cell_type": "code",
   "execution_count": 20,
   "id": "ae13c190",
   "metadata": {},
   "outputs": [],
   "source": [
    "import re"
   ]
  },
  {
   "cell_type": "code",
   "execution_count": null,
   "id": "f97c9248",
   "metadata": {},
   "outputs": [],
   "source": []
  }
 ],
 "metadata": {
  "kernelspec": {
   "display_name": "Python 3",
   "language": "python",
   "name": "python3"
  },
  "language_info": {
   "codemirror_mode": {
    "name": "ipython",
    "version": 3
   },
   "file_extension": ".py",
   "mimetype": "text/x-python",
   "name": "python",
   "nbconvert_exporter": "python",
   "pygments_lexer": "ipython3",
   "version": "3.8.8"
  }
 },
 "nbformat": 4,
 "nbformat_minor": 5
}
