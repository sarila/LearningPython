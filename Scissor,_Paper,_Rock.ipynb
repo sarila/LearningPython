{
  "nbformat": 4,
  "nbformat_minor": 0,
  "metadata": {
    "colab": {
      "name": "Scissor, Paper, Rock",
      "provenance": [],
      "collapsed_sections": []
    },
    "kernelspec": {
      "name": "python3",
      "display_name": "Python 3"
    },
    "language_info": {
      "name": "python"
    }
  },
  "cells": [
    {
      "cell_type": "markdown",
      "metadata": {
        "id": "zC7F57gHACBY"
      },
      "source": [
        "Rock Paper Scissor"
      ]
    },
    {
      "cell_type": "code",
      "metadata": {
        "id": "robNTPs-AHUM"
      },
      "source": [
        "import random"
      ],
      "execution_count": null,
      "outputs": []
    },
    {
      "cell_type": "code",
      "metadata": {
        "id": "5-3gMp8rBrkG"
      },
      "source": [
        "def user_win(s, u):\n",
        "  if(s == u):\n",
        "    print(f\"Tie, You both choose\",s)\n",
        "  elif(s == 'rock' and u == 'scissor'):\n",
        "    print(\"Rock crushes scissors!! You Loose\")\n",
        "  elif(s == 'rock' and u == 'paper'):\n",
        "    print(\"Paper covers rock !! you win\")\n",
        "  elif(s == 'scissor' and u == 'paper'):\n",
        "    print(\"Scissor cuts paper !! you loose\")\n",
        "  elif(s == 'scissor' and u == 'rock'):\n",
        "    print(\"Rock crushes Scissor !! you win\")\n",
        "  elif(s == 'paper' and u == 'rock'):\n",
        "    print(\"Paper covers rock !! you loose\")\n",
        "  elif(s == 'paper' and u == 'scissor'):\n",
        "    print(\"Scissor cuts paper !! you win\")"
      ],
      "execution_count": null,
      "outputs": []
    },
    {
      "cell_type": "code",
      "metadata": {
        "colab": {
          "base_uri": "https://localhost:8080/"
        },
        "id": "GL91-3RNALGS",
        "outputId": "2f719cd0-bf38-47fb-8681-a8dc8050b284"
      },
      "source": [
        "while (1):\n",
        "  choices = ['rock', 'paper', 'scissor']\n",
        "  sys_choice = random.choice(choices)\n",
        "  user_choice = input(\"Enter Your Choice('rock', 'paper', 'scissor')\")\n",
        "  if (user_choice in choices):\n",
        "    user_win(sys_choice, user_choice)\n",
        "  else:\n",
        "    print(\"Invalid Choice, Please choose among one of these: ('rock', 'paper', 'scissor'):\")\n",
        "  play = input(\"Do you want to play next round? (yes/no)\")\n",
        "  if (play == 'no'):\n",
        "    print(\"Okay Bye!!\")\n",
        "    break\n"
      ],
      "execution_count": null,
      "outputs": [
        {
          "output_type": "stream",
          "name": "stdout",
          "text": [
            "Enter Your Choice('rock', 'paper', 'scissor')paper\n",
            "Tie, You both choose paper\n",
            "Do you want to play next round? (yes/no)yes\n",
            "Enter Your Choice('rock', 'paper', 'scissor')scissor\n",
            "Rock crushes scissors!! You Loose\n",
            "Do you want to play next round? (yes/no)yes\n",
            "Enter Your Choice('rock', 'paper', 'scissor')rock\n",
            "Rock crushes Scissor !! you win\n",
            "Do you want to play next round? (yes/no)yes\n",
            "Enter Your Choice('rock', 'paper', 'scissor')paper\n",
            "Tie, You both choose paper\n",
            "Do you want to play next round? (yes/no)no\n",
            "Okay Bye!!\n"
          ]
        }
      ]
    },
    {
      "cell_type": "code",
      "metadata": {
        "id": "HYxqTIzJAWY2"
      },
      "source": [
        ""
      ],
      "execution_count": null,
      "outputs": []
    }
  ]
}